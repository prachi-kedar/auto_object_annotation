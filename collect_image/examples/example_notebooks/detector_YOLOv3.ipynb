{
 "cells": [
  {
   "cell_type": "markdown",
   "metadata": {},
   "source": [
    "## Object Detection - YOLOv3"
   ]
  },
  {
   "cell_type": "code",
   "execution_count": 2,
   "metadata": {},
   "outputs": [
    {
     "name": "stdout",
     "output_type": "stream",
     "text": [
      "Collecting ipyfilechooser\n",
      "  Downloading ipyfilechooser-0.6.0-py3-none-any.whl (11 kB)\n",
      "Requirement already satisfied: ipywidgets in /home/omkar/anaconda3/envs/openvino/lib/python3.7/site-packages (from ipyfilechooser) (7.6.5)\n",
      "Requirement already satisfied: ipython>=4.0.0 in /home/omkar/anaconda3/envs/openvino/lib/python3.7/site-packages (from ipywidgets->ipyfilechooser) (7.10.2)\n",
      "Requirement already satisfied: jupyterlab-widgets>=1.0.0 in /home/omkar/anaconda3/envs/openvino/lib/python3.7/site-packages (from ipywidgets->ipyfilechooser) (1.0.2)\n",
      "Requirement already satisfied: widgetsnbextension~=3.5.0 in /home/omkar/anaconda3/envs/openvino/lib/python3.7/site-packages (from ipywidgets->ipyfilechooser) (3.5.2)\n",
      "Requirement already satisfied: nbformat>=4.2.0 in /home/omkar/anaconda3/envs/openvino/lib/python3.7/site-packages (from ipywidgets->ipyfilechooser) (5.1.3)\n",
      "Requirement already satisfied: traitlets>=4.3.1 in /home/omkar/anaconda3/envs/openvino/lib/python3.7/site-packages (from ipywidgets->ipyfilechooser) (5.0.5)\n",
      "Requirement already satisfied: ipython-genutils~=0.2.0 in /home/omkar/anaconda3/envs/openvino/lib/python3.7/site-packages (from ipywidgets->ipyfilechooser) (0.2.0)\n",
      "Requirement already satisfied: ipykernel>=4.5.1 in /home/omkar/anaconda3/envs/openvino/lib/python3.7/site-packages (from ipywidgets->ipyfilechooser) (5.3.4)\n",
      "Requirement already satisfied: tornado>=4.2 in /home/omkar/anaconda3/envs/openvino/lib/python3.7/site-packages (from ipykernel>=4.5.1->ipywidgets->ipyfilechooser) (6.1)\n",
      "Requirement already satisfied: jupyter-client in /home/omkar/anaconda3/envs/openvino/lib/python3.7/site-packages (from ipykernel>=4.5.1->ipywidgets->ipyfilechooser) (6.1.7)\n",
      "Requirement already satisfied: setuptools>=18.5 in /home/omkar/anaconda3/envs/openvino/lib/python3.7/site-packages (from ipython>=4.0.0->ipywidgets->ipyfilechooser) (58.0.4)\n",
      "Requirement already satisfied: backcall in /home/omkar/anaconda3/envs/openvino/lib/python3.7/site-packages (from ipython>=4.0.0->ipywidgets->ipyfilechooser) (0.2.0)\n",
      "Requirement already satisfied: prompt-toolkit!=3.0.0,!=3.0.1,<3.1.0,>=2.0.0 in /home/omkar/anaconda3/envs/openvino/lib/python3.7/site-packages (from ipython>=4.0.0->ipywidgets->ipyfilechooser) (3.0.8)\n",
      "Requirement already satisfied: pygments in /home/omkar/anaconda3/envs/openvino/lib/python3.7/site-packages (from ipython>=4.0.0->ipywidgets->ipyfilechooser) (2.11.2)\n",
      "Requirement already satisfied: pickleshare in /home/omkar/anaconda3/envs/openvino/lib/python3.7/site-packages (from ipython>=4.0.0->ipywidgets->ipyfilechooser) (0.7.5)\n",
      "Requirement already satisfied: decorator in /home/omkar/anaconda3/envs/openvino/lib/python3.7/site-packages (from ipython>=4.0.0->ipywidgets->ipyfilechooser) (4.4.2)\n",
      "Requirement already satisfied: pexpect in /home/omkar/anaconda3/envs/openvino/lib/python3.7/site-packages (from ipython>=4.0.0->ipywidgets->ipyfilechooser) (4.8.0)\n",
      "Requirement already satisfied: jedi>=0.10 in /home/omkar/anaconda3/envs/openvino/lib/python3.7/site-packages (from ipython>=4.0.0->ipywidgets->ipyfilechooser) (0.17.2)\n",
      "Requirement already satisfied: parso<0.8.0,>=0.7.0 in /home/omkar/anaconda3/envs/openvino/lib/python3.7/site-packages (from jedi>=0.10->ipython>=4.0.0->ipywidgets->ipyfilechooser) (0.7.1)\n",
      "Requirement already satisfied: jsonschema!=2.5.0,>=2.4 in /home/omkar/anaconda3/envs/openvino/lib/python3.7/site-packages (from nbformat>=4.2.0->ipywidgets->ipyfilechooser) (3.2.0)\n",
      "Requirement already satisfied: jupyter-core in /home/omkar/anaconda3/envs/openvino/lib/python3.7/site-packages (from nbformat>=4.2.0->ipywidgets->ipyfilechooser) (4.6.3)\n",
      "Requirement already satisfied: six>=1.11.0 in /home/omkar/anaconda3/envs/openvino/lib/python3.7/site-packages (from jsonschema!=2.5.0,>=2.4->nbformat>=4.2.0->ipywidgets->ipyfilechooser) (1.15.0)\n",
      "Requirement already satisfied: importlib-metadata in /home/omkar/anaconda3/envs/openvino/lib/python3.7/site-packages (from jsonschema!=2.5.0,>=2.4->nbformat>=4.2.0->ipywidgets->ipyfilechooser) (4.10.1)\n",
      "Requirement already satisfied: pyrsistent>=0.14.0 in /home/omkar/anaconda3/envs/openvino/lib/python3.7/site-packages (from jsonschema!=2.5.0,>=2.4->nbformat>=4.2.0->ipywidgets->ipyfilechooser) (0.18.1)\n",
      "Requirement already satisfied: attrs>=17.4.0 in /home/omkar/anaconda3/envs/openvino/lib/python3.7/site-packages (from jsonschema!=2.5.0,>=2.4->nbformat>=4.2.0->ipywidgets->ipyfilechooser) (21.4.0)\n",
      "Requirement already satisfied: wcwidth in /home/omkar/anaconda3/envs/openvino/lib/python3.7/site-packages (from prompt-toolkit!=3.0.0,!=3.0.1,<3.1.0,>=2.0.0->ipython>=4.0.0->ipywidgets->ipyfilechooser) (0.2.5)\n",
      "Requirement already satisfied: notebook>=4.4.1 in /home/omkar/anaconda3/envs/openvino/lib/python3.7/site-packages (from widgetsnbextension~=3.5.0->ipywidgets->ipyfilechooser) (6.4.8)\n",
      "Requirement already satisfied: pyzmq>=17 in /home/omkar/anaconda3/envs/openvino/lib/python3.7/site-packages (from notebook>=4.4.1->widgetsnbextension~=3.5.0->ipywidgets->ipyfilechooser) (19.0.2)\n",
      "Requirement already satisfied: Send2Trash>=1.8.0 in /home/omkar/anaconda3/envs/openvino/lib/python3.7/site-packages (from notebook>=4.4.1->widgetsnbextension~=3.5.0->ipywidgets->ipyfilechooser) (1.8.0)\n",
      "Requirement already satisfied: nest-asyncio>=1.5 in /home/omkar/anaconda3/envs/openvino/lib/python3.7/site-packages (from notebook>=4.4.1->widgetsnbextension~=3.5.0->ipywidgets->ipyfilechooser) (1.5.4)\n",
      "Requirement already satisfied: jinja2 in /home/omkar/anaconda3/envs/openvino/lib/python3.7/site-packages (from notebook>=4.4.1->widgetsnbextension~=3.5.0->ipywidgets->ipyfilechooser) (3.0.3)\n",
      "Requirement already satisfied: argon2-cffi in /home/omkar/anaconda3/envs/openvino/lib/python3.7/site-packages (from notebook>=4.4.1->widgetsnbextension~=3.5.0->ipywidgets->ipyfilechooser) (21.3.0)\n",
      "Requirement already satisfied: terminado>=0.8.3 in /home/omkar/anaconda3/envs/openvino/lib/python3.7/site-packages (from notebook>=4.4.1->widgetsnbextension~=3.5.0->ipywidgets->ipyfilechooser) (0.13.1)\n",
      "Requirement already satisfied: prometheus-client in /home/omkar/anaconda3/envs/openvino/lib/python3.7/site-packages (from notebook>=4.4.1->widgetsnbextension~=3.5.0->ipywidgets->ipyfilechooser) (0.13.1)\n",
      "Requirement already satisfied: nbconvert in /home/omkar/anaconda3/envs/openvino/lib/python3.7/site-packages (from notebook>=4.4.1->widgetsnbextension~=3.5.0->ipywidgets->ipyfilechooser) (6.4.1)\n",
      "Requirement already satisfied: python-dateutil>=2.1 in /home/omkar/anaconda3/envs/openvino/lib/python3.7/site-packages (from jupyter-client->ipykernel>=4.5.1->ipywidgets->ipyfilechooser) (2.8.1)\n",
      "Requirement already satisfied: ptyprocess in /home/omkar/anaconda3/envs/openvino/lib/python3.7/site-packages (from terminado>=0.8.3->notebook>=4.4.1->widgetsnbextension~=3.5.0->ipywidgets->ipyfilechooser) (0.6.0)\n",
      "Requirement already satisfied: typing-extensions in /home/omkar/anaconda3/envs/openvino/lib/python3.7/site-packages (from argon2-cffi->notebook>=4.4.1->widgetsnbextension~=3.5.0->ipywidgets->ipyfilechooser) (3.7.4.3)\n",
      "Requirement already satisfied: argon2-cffi-bindings in /home/omkar/anaconda3/envs/openvino/lib/python3.7/site-packages (from argon2-cffi->notebook>=4.4.1->widgetsnbextension~=3.5.0->ipywidgets->ipyfilechooser) (21.2.0)\n",
      "Requirement already satisfied: cffi>=1.0.1 in /home/omkar/anaconda3/envs/openvino/lib/python3.7/site-packages (from argon2-cffi-bindings->argon2-cffi->notebook>=4.4.1->widgetsnbextension~=3.5.0->ipywidgets->ipyfilechooser) (1.15.0)\n",
      "Requirement already satisfied: pycparser in /home/omkar/anaconda3/envs/openvino/lib/python3.7/site-packages (from cffi>=1.0.1->argon2-cffi-bindings->argon2-cffi->notebook>=4.4.1->widgetsnbextension~=3.5.0->ipywidgets->ipyfilechooser) (2.21)\n",
      "Requirement already satisfied: zipp>=0.5 in /home/omkar/anaconda3/envs/openvino/lib/python3.7/site-packages (from importlib-metadata->jsonschema!=2.5.0,>=2.4->nbformat>=4.2.0->ipywidgets->ipyfilechooser) (3.7.0)\n",
      "Requirement already satisfied: MarkupSafe>=2.0 in /home/omkar/anaconda3/envs/openvino/lib/python3.7/site-packages (from jinja2->notebook>=4.4.1->widgetsnbextension~=3.5.0->ipywidgets->ipyfilechooser) (2.0.1)\n",
      "Requirement already satisfied: defusedxml in /home/omkar/anaconda3/envs/openvino/lib/python3.7/site-packages (from nbconvert->notebook>=4.4.1->widgetsnbextension~=3.5.0->ipywidgets->ipyfilechooser) (0.7.1)\n",
      "Requirement already satisfied: pandocfilters>=1.4.1 in /home/omkar/anaconda3/envs/openvino/lib/python3.7/site-packages (from nbconvert->notebook>=4.4.1->widgetsnbextension~=3.5.0->ipywidgets->ipyfilechooser) (1.5.0)\n",
      "Requirement already satisfied: entrypoints>=0.2.2 in /home/omkar/anaconda3/envs/openvino/lib/python3.7/site-packages (from nbconvert->notebook>=4.4.1->widgetsnbextension~=3.5.0->ipywidgets->ipyfilechooser) (0.3)\n",
      "Requirement already satisfied: jupyterlab-pygments in /home/omkar/anaconda3/envs/openvino/lib/python3.7/site-packages (from nbconvert->notebook>=4.4.1->widgetsnbextension~=3.5.0->ipywidgets->ipyfilechooser) (0.1.2)\n",
      "Requirement already satisfied: nbclient<0.6.0,>=0.5.0 in /home/omkar/anaconda3/envs/openvino/lib/python3.7/site-packages (from nbconvert->notebook>=4.4.1->widgetsnbextension~=3.5.0->ipywidgets->ipyfilechooser) (0.5.10)\n",
      "Requirement already satisfied: testpath in /home/omkar/anaconda3/envs/openvino/lib/python3.7/site-packages (from nbconvert->notebook>=4.4.1->widgetsnbextension~=3.5.0->ipywidgets->ipyfilechooser) (0.5.0)\n",
      "Requirement already satisfied: bleach in /home/omkar/anaconda3/envs/openvino/lib/python3.7/site-packages (from nbconvert->notebook>=4.4.1->widgetsnbextension~=3.5.0->ipywidgets->ipyfilechooser) (4.1.0)\n",
      "Requirement already satisfied: mistune<2,>=0.8.1 in /home/omkar/anaconda3/envs/openvino/lib/python3.7/site-packages (from nbconvert->notebook>=4.4.1->widgetsnbextension~=3.5.0->ipywidgets->ipyfilechooser) (0.8.4)\n"
     ]
    },
    {
     "name": "stdout",
     "output_type": "stream",
     "text": [
      "Requirement already satisfied: packaging in /home/omkar/anaconda3/envs/openvino/lib/python3.7/site-packages (from bleach->nbconvert->notebook>=4.4.1->widgetsnbextension~=3.5.0->ipywidgets->ipyfilechooser) (21.3)\n",
      "Requirement already satisfied: webencodings in /home/omkar/anaconda3/envs/openvino/lib/python3.7/site-packages (from bleach->nbconvert->notebook>=4.4.1->widgetsnbextension~=3.5.0->ipywidgets->ipyfilechooser) (0.5.1)\n",
      "Requirement already satisfied: pyparsing!=3.0.5,>=2.0.2 in /home/omkar/anaconda3/envs/openvino/lib/python3.7/site-packages (from packaging->bleach->nbconvert->notebook>=4.4.1->widgetsnbextension~=3.5.0->ipywidgets->ipyfilechooser) (2.4.7)\n",
      "Installing collected packages: ipyfilechooser\n",
      "Successfully installed ipyfilechooser-0.6.0\n"
     ]
    }
   ],
   "source": [
    "!pip install ipyfilechooser"
   ]
  },
  {
   "cell_type": "code",
   "execution_count": 3,
   "metadata": {
    "scrolled": true
   },
   "outputs": [],
   "source": [
    "import numpy as np\n",
    "import cv2 as cv\n",
    "from motrackers.detectors import YOLOv3"
   ]
  },
  {
   "cell_type": "code",
   "execution_count": 4,
   "metadata": {},
   "outputs": [],
   "source": [
    "VIDEO_FILE = \"./../video_data/cars.mp4\"\n",
    "WEIGHTS_PATH = './../pretrained_models/yolo_weights/yolov3.weights'\n",
    "CONFIG_FILE_PATH = './../pretrained_models/yolo_weights/yolov3.cfg'\n",
    "LABELS_PATH = \"./../pretrained_models/yolo_weights/coco_names.json\"\n",
    "\n",
    "USE_GPU = False\n",
    "CONFIDENCE_THRESHOLD = 0.5\n",
    "NMS_THRESHOLD = 0.2\n",
    "DRAW_BOUNDING_BOXES = True"
   ]
  },
  {
   "cell_type": "code",
   "execution_count": 7,
   "metadata": {},
   "outputs": [
    {
     "ename": "IndexError",
     "evalue": "invalid index to scalar variable.",
     "output_type": "error",
     "traceback": [
      "\u001b[0;31m---------------------------------------------------------------------------\u001b[0m",
      "\u001b[0;31mIndexError\u001b[0m                                Traceback (most recent call last)",
      "\u001b[0;32m<ipython-input-7-fb98aba2f414>\u001b[0m in \u001b[0;36m<module>\u001b[0;34m\u001b[0m\n\u001b[1;32m      6\u001b[0m     \u001b[0mnms_threshold\u001b[0m\u001b[0;34m=\u001b[0m\u001b[0mNMS_THRESHOLD\u001b[0m\u001b[0;34m,\u001b[0m\u001b[0;34m\u001b[0m\u001b[0;34m\u001b[0m\u001b[0m\n\u001b[1;32m      7\u001b[0m     \u001b[0mdraw_bboxes\u001b[0m\u001b[0;34m=\u001b[0m\u001b[0mDRAW_BOUNDING_BOXES\u001b[0m\u001b[0;34m,\u001b[0m\u001b[0;34m\u001b[0m\u001b[0;34m\u001b[0m\u001b[0m\n\u001b[0;32m----> 8\u001b[0;31m     \u001b[0muse_gpu\u001b[0m\u001b[0;34m=\u001b[0m\u001b[0mUSE_GPU\u001b[0m\u001b[0;34m\u001b[0m\u001b[0;34m\u001b[0m\u001b[0m\n\u001b[0m\u001b[1;32m      9\u001b[0m )\n",
      "\u001b[0;32m/media/omkar/omkar3/object_tracker/multi-object-tracker/motrackers/detectors/yolo.py\u001b[0m in \u001b[0;36m__init__\u001b[0;34m(self, weights_path, configfile_path, labels_path, confidence_threshold, nms_threshold, draw_bboxes, use_gpu)\u001b[0m\n\u001b[1;32m     24\u001b[0m \u001b[0;34m\u001b[0m\u001b[0m\n\u001b[1;32m     25\u001b[0m         \u001b[0mlayer_names\u001b[0m \u001b[0;34m=\u001b[0m \u001b[0mself\u001b[0m\u001b[0;34m.\u001b[0m\u001b[0mnet\u001b[0m\u001b[0;34m.\u001b[0m\u001b[0mgetLayerNames\u001b[0m\u001b[0;34m(\u001b[0m\u001b[0;34m)\u001b[0m\u001b[0;34m\u001b[0m\u001b[0;34m\u001b[0m\u001b[0m\n\u001b[0;32m---> 26\u001b[0;31m         \u001b[0mself\u001b[0m\u001b[0;34m.\u001b[0m\u001b[0mlayer_names\u001b[0m \u001b[0;34m=\u001b[0m \u001b[0;34m[\u001b[0m\u001b[0mlayer_names\u001b[0m\u001b[0;34m[\u001b[0m\u001b[0mi\u001b[0m \u001b[0;34m-\u001b[0m \u001b[0;36m1\u001b[0m\u001b[0;34m]\u001b[0m \u001b[0;32mfor\u001b[0m \u001b[0mi\u001b[0m \u001b[0;32min\u001b[0m \u001b[0mself\u001b[0m\u001b[0;34m.\u001b[0m\u001b[0mnet\u001b[0m\u001b[0;34m.\u001b[0m\u001b[0mgetUnconnectedOutLayers\u001b[0m\u001b[0;34m(\u001b[0m\u001b[0;34m)\u001b[0m\u001b[0;34m]\u001b[0m\u001b[0;34m\u001b[0m\u001b[0;34m\u001b[0m\u001b[0m\n\u001b[0m\u001b[1;32m     27\u001b[0m \u001b[0;34m\u001b[0m\u001b[0m\n\u001b[1;32m     28\u001b[0m         \u001b[0mself\u001b[0m\u001b[0;34m.\u001b[0m\u001b[0mscale_factor\u001b[0m \u001b[0;34m=\u001b[0m \u001b[0;36m1\u001b[0m\u001b[0;34m/\u001b[0m\u001b[0;36m255.0\u001b[0m\u001b[0;34m\u001b[0m\u001b[0;34m\u001b[0m\u001b[0m\n",
      "\u001b[0;32m/media/omkar/omkar3/object_tracker/multi-object-tracker/motrackers/detectors/yolo.py\u001b[0m in \u001b[0;36m<listcomp>\u001b[0;34m(.0)\u001b[0m\n\u001b[1;32m     24\u001b[0m \u001b[0;34m\u001b[0m\u001b[0m\n\u001b[1;32m     25\u001b[0m         \u001b[0mlayer_names\u001b[0m \u001b[0;34m=\u001b[0m \u001b[0mself\u001b[0m\u001b[0;34m.\u001b[0m\u001b[0mnet\u001b[0m\u001b[0;34m.\u001b[0m\u001b[0mgetLayerNames\u001b[0m\u001b[0;34m(\u001b[0m\u001b[0;34m)\u001b[0m\u001b[0;34m\u001b[0m\u001b[0;34m\u001b[0m\u001b[0m\n\u001b[0;32m---> 26\u001b[0;31m         \u001b[0mself\u001b[0m\u001b[0;34m.\u001b[0m\u001b[0mlayer_names\u001b[0m \u001b[0;34m=\u001b[0m \u001b[0;34m[\u001b[0m\u001b[0mlayer_names\u001b[0m\u001b[0;34m[\u001b[0m\u001b[0mi\u001b[0m \u001b[0;34m-\u001b[0m \u001b[0;36m1\u001b[0m\u001b[0;34m]\u001b[0m \u001b[0;32mfor\u001b[0m \u001b[0mi\u001b[0m \u001b[0;32min\u001b[0m \u001b[0mself\u001b[0m\u001b[0;34m.\u001b[0m\u001b[0mnet\u001b[0m\u001b[0;34m.\u001b[0m\u001b[0mgetUnconnectedOutLayers\u001b[0m\u001b[0;34m(\u001b[0m\u001b[0;34m)\u001b[0m\u001b[0;34m]\u001b[0m\u001b[0;34m\u001b[0m\u001b[0;34m\u001b[0m\u001b[0m\n\u001b[0m\u001b[1;32m     27\u001b[0m \u001b[0;34m\u001b[0m\u001b[0m\n\u001b[1;32m     28\u001b[0m         \u001b[0mself\u001b[0m\u001b[0;34m.\u001b[0m\u001b[0mscale_factor\u001b[0m \u001b[0;34m=\u001b[0m \u001b[0;36m1\u001b[0m\u001b[0;34m/\u001b[0m\u001b[0;36m255.0\u001b[0m\u001b[0;34m\u001b[0m\u001b[0;34m\u001b[0m\u001b[0m\n",
      "\u001b[0;31mIndexError\u001b[0m: invalid index to scalar variable."
     ]
    }
   ],
   "source": [
    "model = YOLOv3(\n",
    "    weights_path=WEIGHTS_PATH,\n",
    "    configfile_path=CONFIG_FILE_PATH,\n",
    "    labels_path=LABELS_PATH,\n",
    "    confidence_threshold=CONFIDENCE_THRESHOLD,\n",
    "    nms_threshold=NMS_THRESHOLD,\n",
    "    draw_bboxes=DRAW_BOUNDING_BOXES,\n",
    "    use_gpu=USE_GPU\n",
    ")"
   ]
  },
  {
   "cell_type": "code",
   "execution_count": 4,
   "metadata": {},
   "outputs": [],
   "source": [
    "cap = cv.VideoCapture(VIDEO_FILE)"
   ]
  },
  {
   "cell_type": "code",
   "execution_count": 5,
   "metadata": {
    "scrolled": false
   },
   "outputs": [],
   "source": [
    "while True:\n",
    "    ok, image = cap.read()\n",
    "    \n",
    "    if not ok:\n",
    "        print(\"Cannot read the video feed.\")\n",
    "        break\n",
    "    \n",
    "    bboxes, confidences, class_ids = model.detect(image)\n",
    "    updated_image = model.draw_bboxes(image.copy(), bboxes, confidences, class_ids)\n",
    "    \n",
    "    cv.imshow(\"image\", updated_image)\n",
    "    if cv.waitKey(1) & 0xFF == ord('q'):\n",
    "        break\n",
    "\n",
    "cap.release()\n",
    "cv.destroyWindow(\"image\")"
   ]
  },
  {
   "cell_type": "code",
   "execution_count": null,
   "metadata": {},
   "outputs": [],
   "source": []
  }
 ],
 "metadata": {
  "kernelspec": {
   "display_name": "openvino",
   "language": "python",
   "name": "openvino"
  },
  "language_info": {
   "codemirror_mode": {
    "name": "ipython",
    "version": 3
   },
   "file_extension": ".py",
   "mimetype": "text/x-python",
   "name": "python",
   "nbconvert_exporter": "python",
   "pygments_lexer": "ipython3",
   "version": "3.7.11"
  }
 },
 "nbformat": 4,
 "nbformat_minor": 4
}
